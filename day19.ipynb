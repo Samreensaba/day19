{
 "cells": [
  {
   "cell_type": "code",
   "execution_count": 2,
   "id": "4cb7afdf-0392-4da7-b8f2-cfa534767bd9",
   "metadata": {},
   "outputs": [
    {
     "name": "stdout",
     "output_type": "stream",
     "text": [
      "Loan Interest Calculator\n",
      "\n",
      "for $1000 over 10 years at 5% APR\n",
      "\n",
      "Year 1  is  1050.0\n",
      "Year 2  is  1102.5\n",
      "Year 3  is  1157.62\n",
      "Year 4  is  1215.51\n",
      "Year 5  is  1276.28\n",
      "Year 6  is  1340.1\n",
      "Year 7  is  1407.1\n",
      "Year 8  is  1477.46\n",
      "Year 9  is  1551.33\n",
      "Year 10  is  1628.89\n",
      "You paid $ 628.89  in interest\n"
     ]
    }
   ],
   "source": [
    "print(\"Loan Interest Calculator\")\n",
    "print()\n",
    "print(\"for $1000 over 10 years at 5% APR\")\n",
    "print()\n",
    "loan = 1000\n",
    "apr = 0.05\n",
    "for year in range(10):\n",
    "  loan += (loan*apr)\n",
    "  print(\"Year\", year+1, \" is \", round(loan, 2))\n",
    "print(\"You paid $\", round(loan-1000, 2), \" in interest\")"
   ]
  },
  {
   "cell_type": "code",
   "execution_count": null,
   "id": "41377975-7569-4a55-b51e-49a2c89f1922",
   "metadata": {},
   "outputs": [],
   "source": []
  }
 ],
 "metadata": {
  "kernelspec": {
   "display_name": "Python 3 (ipykernel)",
   "language": "python",
   "name": "python3"
  },
  "language_info": {
   "codemirror_mode": {
    "name": "ipython",
    "version": 3
   },
   "file_extension": ".py",
   "mimetype": "text/x-python",
   "name": "python",
   "nbconvert_exporter": "python",
   "pygments_lexer": "ipython3",
   "version": "3.12.4"
  }
 },
 "nbformat": 4,
 "nbformat_minor": 5
}
